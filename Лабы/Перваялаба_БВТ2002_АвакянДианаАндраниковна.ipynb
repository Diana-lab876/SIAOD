{
 "cells": [
  {
   "cell_type": "markdown",
   "id": "71554a36",
   "metadata": {},
   "source": [
    "# Лаболаторная работа №1\n",
    "## Выполнила студентка группы БВТ2002 Авакян Диана Андраниковна\n",
    "### Задание №1\n",
    "Описание условия задания\n",
    "\n",
    "Реализовать методы сортировки строк числовой матрицы в соответствии с\n",
    "заданием. Оценить время работы каждого алгоритма сортировки и сравнить его со\n",
    "временем стандартной функции сортировки. Испытания проводить на сгенерированных\n",
    "матрицах."
   ]
  },
  {
   "cell_type": "code",
   "execution_count": 1,
   "id": "76ed920e",
   "metadata": {},
   "outputs": [
    {
     "name": "stdout",
     "output_type": "stream",
     "text": [
      "Hello, World!\n"
     ]
    }
   ],
   "source": [
    "print(\"Hello, World!\")"
   ]
  },
  {
   "cell_type": "markdown",
   "id": "697e03e1",
   "metadata": {
    "tags": []
   },
   "source": [
    "# Задание №3\n",
    "## Методы сортировки"
   ]
  },
  {
   "cell_type": "markdown",
   "id": "21761be9",
   "metadata": {},
   "source": [
    "Стандартная функция сортировки (сортировка по умолчанию)"
   ]
  },
  {
   "cell_type": "code",
   "execution_count": 2,
   "id": "18592931",
   "metadata": {},
   "outputs": [],
   "source": [
    "def default_sort(arr1):\n",
    "    arr = deepcopy(arr1)\n",
    "    for i, e in enumerate(arr):\n",
    "        arr[i] = sorted(e)\n",
    "    #print(arr, \" sort\")"
   ]
  },
  {
   "cell_type": "markdown",
   "id": "db8fa6b6",
   "metadata": {},
   "source": [
    "Сортировка выбором\n",
    "Сложность: O(n^2)"
   ]
  },
  {
   "cell_type": "code",
   "execution_count": 3,
   "id": "2e78a136",
   "metadata": {},
   "outputs": [],
   "source": [
    "def selection(data1):\n",
    "    data = deepcopy(data1)\n",
    "    for row in data:\n",
    "        for i in range(len(row)):\n",
    "            min_in = i\n",
    "            for ind in range(i+1, len(row)):\n",
    "                if row[ind]<row[min_in]:\n",
    "                    min_in=ind #минимальный элемент\n",
    "            row[i], row[min_in] = row[min_in], row[i] #меняем местами, переносим к уже отсортированным"
   ]
  },
  {
   "cell_type": "markdown",
   "id": "b3a7f5c5",
   "metadata": {},
   "source": [
    "Сортировка вставкой\n",
    "Сложность: O(n^2)"
   ]
  },
  {
   "cell_type": "code",
   "execution_count": 4,
   "id": "f59bc524",
   "metadata": {},
   "outputs": [],
   "source": [
    "def insertion_sort(data1):\n",
    "    data = deepcopy(data1)\n",
    "    for k in range(0, len(data)):\n",
    "        for i in range(1, len(data[k])): \n",
    "            value = data[k][i] \n",
    "            j = i - 1 \n",
    "            while j >= 0 and value < data[k][j]: \n",
    "                data[k][j + 1] = data[k][j] \n",
    "                j -= 1 \n",
    "            data[k][j + 1] = value \n",
    "    #print(data, \" insertion_sort\") "
   ]
  },
  {
   "cell_type": "markdown",
   "id": "1388fa15",
   "metadata": {},
   "source": [
    "Сортировка обменом\n",
    "Сложность: O(n^2)"
   ]
  },
  {
   "cell_type": "code",
   "execution_count": 5,
   "id": "d865ee59",
   "metadata": {},
   "outputs": [],
   "source": [
    "def bubble(data1):\n",
    "    data = deepcopy(data1)\n",
    "    for k in range(len(data)):\n",
    "        for i in range(len(data[k]) - 1):\n",
    "            for j in range(len(data[k]) - 1 - i):\n",
    "                if data[k][j] > data[k][j+1]:\n",
    "                    data[k][j], data[k][j+1] = data[k][j+1], data[k][j]\n",
    "    #print(data, \" bubble\")"
   ]
  },
  {
   "cell_type": "markdown",
   "id": "2301b637",
   "metadata": {},
   "source": [
    "Сортировка Шелла\n",
    "Сложность: от O(n log^2 n) до O(n^2)"
   ]
  },
  {
   "cell_type": "code",
   "execution_count": 6,
   "id": "6d4ac18b",
   "metadata": {},
   "outputs": [],
   "source": [
    "def shell(data1):\n",
    "    data = deepcopy(data1)\n",
    "    for k in range(len(data)):\n",
    "        inc = len(data[k]) // 2\n",
    "        while inc:\n",
    "            for i, el in enumerate(data[k]):\n",
    "                while i >= inc and data[k][i - inc] > el:\n",
    "                    data[k][i] = data[k][i - inc]\n",
    "                    i -= inc\n",
    "                data[k][i] = el\n",
    "            inc = 1 if inc == 2 else int(inc * 5.0 / 10)\n",
    "    #print(data, \" shell\")"
   ]
  },
  {
   "cell_type": "markdown",
   "id": "d4b95ce5",
   "metadata": {},
   "source": [
    "Турнирная сортировка\n",
    "Сложность: O(nlog^2n)"
   ]
  },
  {
   "cell_type": "code",
   "execution_count": 7,
   "id": "0461f0be",
   "metadata": {},
   "outputs": [],
   "source": [
    "def tour(ar):\n",
    "    while len(ar) > 1:\n",
    "        win_nums = []\n",
    "        if len(ar) % 2 != 0:\n",
    "            ar.append(max(ar) + 1)\n",
    "        for i in range(0, len(ar), 2):\n",
    "            if ar[i] > ar[i + 1]:\n",
    "                win_nums.append(ar[i + 1])\n",
    "            else:\n",
    "                win_nums.append(ar[i])\n",
    "        ar = copy.copy(win_nums)\n",
    "    return ar\n",
    "\n",
    "\n",
    "def toursort(ar):\n",
    "    sorted_arr = []\n",
    "    while (len(ar) > 0):\n",
    "        winner = tour(copy.copy(ar))[0]\n",
    "        # print(\"{0} - removing {1}\".format(ar, winner))\n",
    "        ar.remove(winner)\n",
    "        sorted_arr.append(winner)\n",
    "    return sorted_arr\n",
    "\n",
    "def pyramid_tournament_sort(arr1):\n",
    "    arr = deepcopy(arr1)\n",
    "    for i in range(len(arr)):\n",
    "        arr[i] = toursort(arr[i])\n"
   ]
  },
  {
   "cell_type": "markdown",
   "id": "3a895b08",
   "metadata": {},
   "source": [
    "Сортировка быстрая\n",
    "O(n×log2n)"
   ]
  },
  {
   "cell_type": "code",
   "execution_count": 8,
   "id": "5fc377ef",
   "metadata": {},
   "outputs": [],
   "source": [
    "def quick_sort(arr):\n",
    "    if len(arr) <= 1:\n",
    "        return arr\n",
    "    elem = arr[0]\n",
    "    left = list(filter(lambda x: x < elem, arr))\n",
    "    center = [i for i in arr if i == elem]\n",
    "    right = list(filter(lambda x: x > elem, arr))\n",
    "\n",
    "    return quick_sort(left) + center + quick_sort(right)\n",
    "\n",
    "def quick(arr1):\n",
    "    arr = deepcopy(arr1)\n",
    "    for i, e in enumerate(arr):\n",
    "        arr[i] = quick_sort(e)\n",
    "    #print(arr, \" quick\")"
   ]
  },
  {
   "cell_type": "markdown",
   "id": "e97630e6",
   "metadata": {},
   "source": [
    "Сортировка пирамидальная\n",
    "\n",
    "Общее время работы этого алгоритма составляет O(n log n)"
   ]
  },
  {
   "cell_type": "code",
   "execution_count": 9,
   "id": "40d1721b",
   "metadata": {},
   "outputs": [],
   "source": [
    "def heapify(arr, n, i):\n",
    "    largest = i \n",
    "    left = 2 * i + 1   \n",
    "    right = 2 * i + 2   \n",
    "    \n",
    "    if left < n and arr[i] < arr[left]:\n",
    "        largest = left\n",
    "    if right < n and arr[largest] < arr[right]:\n",
    "        largest = right\n",
    "\n",
    "    if largest != i:\n",
    "        arr[i],arr[largest] = arr[largest],arr[i] \n",
    "        heapify(arr, n, largest)\n",
    "\n",
    "\n",
    "def heapSort(arr):\n",
    "    n = len(arr)\n",
    "    for k in range(len(arr)):\n",
    "        for i in range(n, -1, -1):\n",
    "            heapify(arr[k], n, i)\n",
    "\n",
    "        for i in range(n-1, 0, -1):\n",
    "            arr[k][i], arr[k][0] = arr[k][0], arr[k][i] \n",
    "            heapify(arr[k], i, 0)\n",
    "\n",
    "    #print(arr, \" heapSort\")"
   ]
  },
  {
   "cell_type": "markdown",
   "id": "8558fcf0-de22-4699-b880-68962c5be35f",
   "metadata": {
    "tags": []
   },
   "source": [
    "# Задание №2:\n",
    "Написать генератор случайных матриц(многомерных), который принимает\n",
    "опциональные параметры m, n, min_limit, max_limit, где m и n указывают размер\n",
    "матрицы, а min_lim и max_lim - минимальное и максимальное значение для\n",
    "генерируемого числа .\n",
    "## + измерение времени каждого способа сортировки"
   ]
  },
  {
   "cell_type": "code",
   "execution_count": 10,
   "id": "67c683d8",
   "metadata": {},
   "outputs": [
    {
     "name": "stdout",
     "output_type": "stream",
     "text": [
      "Сортировка по умолчанию     0.315\n",
      "Сортировка выбором          14.8\n",
      "Сортировка вставкой         21.6\n",
      "Сортировка обменом          43.6\n",
      "Сортировка Шелла            2.08\n",
      "Сортировка турнирная        48.4\n",
      "Сортировка быстрая          2.46\n",
      "Сортировка пирамидальная    2.8\n"
     ]
    }
   ],
   "source": [
    "#import numpy as np\n",
    "import random \n",
    "from copy import deepcopy\n",
    "import timeit\n",
    "import copy\n",
    "mas = [ [ random.randint(-250, 1001) for j in range(700)] for i in range(700) ] \n",
    "#mas1 = np.random.randint(low=-250, high=1007, size=(5, 5))\n",
    "#print(mas)\n",
    "\n",
    "print(\"Сортировка по умолчанию     \" + str(\"%.3g\" % timeit.timeit('default_sort(mas)',number=1,globals=globals())))\n",
    "print(\"Сортировка выбором          \" + str(\"%.3g\" % timeit.timeit('selection(mas)',number=1,globals=globals())))\n",
    "print(\"Сортировка вставкой         \" + str(\"%.3g\" % timeit.timeit('insertion_sort(mas)',number=1,globals=globals())))\n",
    "print(\"Сортировка обменом          \" + str(\"%.3g\" % timeit.timeit('bubble(mas)',number=1,globals=globals())))\n",
    "print(\"Сортировка Шелла            \" + str(\"%.3g\" % timeit.timeit('shell(mas)',number=1,globals=globals())))\n",
    "print(\"Сортировка турнирная        \" + str(\"%.3g\" % timeit.timeit('pyramid_tournament_sort(mas)',number=1,globals=globals())))\n",
    "print(\"Сортировка быстрая          \" + str(\"%.3g\" % timeit.timeit('quick(mas)',number=1,globals=globals())))\n",
    "print(\"Сортировка пирамидальная    \" + str(\"%.3g\" % timeit.timeit('heapSort(mas)',number=1,globals=globals())))"
   ]
  },
  {
   "cell_type": "markdown",
   "id": "6a781c7b",
   "metadata": {},
   "source": [
    "## Вывод\n",
    "\n",
    "Самой быстрой сортировкой является сортировка по умолчанию в Python."
   ]
  }
 ],
 "metadata": {
  "kernelspec": {
   "display_name": "Python 3 (ipykernel)",
   "language": "python",
   "name": "python3"
  },
  "language_info": {
   "codemirror_mode": {
    "name": "ipython",
    "version": 3
   },
   "file_extension": ".py",
   "mimetype": "text/x-python",
   "name": "python",
   "nbconvert_exporter": "python",
   "pygments_lexer": "ipython3",
   "version": "3.10.2"
  }
 },
 "nbformat": 4,
 "nbformat_minor": 5
}
