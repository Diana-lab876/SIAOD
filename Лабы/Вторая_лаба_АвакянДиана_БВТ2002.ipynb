{
 "cells": [
  {
   "cell_type": "markdown",
   "id": "fifteen-sailing",
   "metadata": {
    "id": "fifteen-sailing"
   },
   "source": [
    "# Лабораторная работа №2\n",
    "## Выполнила студентка группы БВТ2002 Авакян Диана Андраниковна"
   ]
  },
  {
   "cell_type": "markdown",
   "id": "arctic-stocks",
   "metadata": {
    "id": "arctic-stocks"
   },
   "source": [
    "### Задание №1\n",
    "Реализовать методы поиска в соответствии с заданием. Организовать генерацию начального набора случайных данных. Для всех вариантов добавить реализацию добавления, поиска и удаления элементов. Оценить время работы каждого алгоритма поиска и сравнить его со временем работы стандартной функции поиска, используемой в выбранном языке программирования."
   ]
  },
  {
   "cell_type": "code",
   "execution_count": 1,
   "id": "96691119-ec41-4793-85cf-522ceec49e73",
   "metadata": {},
   "outputs": [
    {
     "name": "stdout",
     "output_type": "stream",
     "text": [
      "[-788, -573, -425, -260, -207, -188, -32, 109, 423, 727]\n"
     ]
    },
    {
     "name": "stdin",
     "output_type": "stream",
     "text": [
      "Введите элемент, который хотите найти  727\n"
     ]
    },
    {
     "name": "stdout",
     "output_type": "stream",
     "text": [
      "Индекс, необходимого элемента 1\n",
      "1.5e-06\n"
     ]
    }
   ],
   "source": [
    "#Встроенный поиск\n",
    "import random\n",
    "import timeit\n",
    "\n",
    "def standart(listok, element):\n",
    "        return listok.count(element)\n",
    "\n",
    "n=10\n",
    "mas=[random.randint(-1000, 1000) for j in range(n)]\n",
    "mas.sort()\n",
    "print(mas)\n",
    "elem1 = int(input(\"Введите элемент, который хотите найти \"))\n",
    "print(\"Индекс, необходимого элемента\", standart(mas, elem1))\n",
    "print(str(\"%.3g\" % timeit.timeit('standart(mas, elem1)', number=1, globals=globals())))"
   ]
  },
  {
   "cell_type": "code",
   "execution_count": 2,
   "id": "caring-truck",
   "metadata": {
    "colab": {
     "base_uri": "https://localhost:8080/"
    },
    "id": "caring-truck",
    "outputId": "2e2c9987-2d8a-46e9-f1d1-ef79e207ba3a",
    "scrolled": true
   },
   "outputs": [
    {
     "name": "stdout",
     "output_type": "stream",
     "text": [
      "Изначальный массив:  [-970, -892, -795, -703, -688, -539, -172, 242, 388, 469]\n"
     ]
    },
    {
     "name": "stdin",
     "output_type": "stream",
     "text": [
      "Введите элемент, который хотите найти  -970\n"
     ]
    },
    {
     "name": "stdout",
     "output_type": "stream",
     "text": [
      "Индекс, необходимого элемента 0\n"
     ]
    },
    {
     "name": "stdin",
     "output_type": "stream",
     "text": [
      "Введите элемент, который нужно вставить в массив  64\n",
      "Введите элемент, который необходимо удалить из массива  -703\n"
     ]
    },
    {
     "name": "stdout",
     "output_type": "stream",
     "text": [
      "Новый массив:  [-970, -892, -795, -688, -539, -172, 64, 242, 388, 469]\n",
      "3.4e-06\n"
     ]
    }
   ],
   "source": [
    "#Бинарный поиск\n",
    "import random\n",
    "import timeit\n",
    "def binary(listok, lost: int, start: int, end: int, add: bool = False) -> int:\n",
    "    if start > end:\n",
    "        if add:\n",
    "            if lost > listok[start]:\n",
    "                start += 1\n",
    "            return start\n",
    "        else:\n",
    "            return -1\n",
    "    middle = (start + end) // 2\n",
    "    if lost == listok[middle]:\n",
    "        return middle\n",
    "    if lost < listok[middle]:\n",
    "        return binary(listok, lost, start, middle-1, add)\n",
    "    else:\n",
    "        return binary(listok, lost, middle+1, end, add)\n",
    "\n",
    "\n",
    "def add(listok, elem):\n",
    "    i = binary(listok, elem, 0, len(listok) - 1, True)\n",
    "    listok.insert(i, elem)\n",
    "\n",
    "def delete(listok, elem):\n",
    "    i = binary(listok, elem, 0, len(listok) - 1)\n",
    "    if i != -1:\n",
    "        listok.pop(i)\n",
    "        \n",
    "        \n",
    "n = 10\n",
    "mas = [random.randint(-1000, 1000) for j in range(n)]\n",
    "mas.sort()\n",
    "print(\"Изначальный массив: \", mas)\n",
    "elem1 = int(input(\"Введите элемент, который хотите найти \"))\n",
    "print(\"Индекс, необходимого элемента\", binary(mas, elem1, 0, len(mas) - 1))\n",
    "elem_add = int(input(\"Введите элемент, который нужно вставить в массив \"))\n",
    "elem_del = int(input(\"Введите элемент, который необходимо удалить из массива \"))\n",
    "add(mas, elem_add)\n",
    "delete(mas, elem_del)\n",
    "print(\"Новый массив: \", mas)\n",
    "print(str(\"%.3g\" % timeit.timeit('binary(mas, elem1, 0, len(mas) - 1)', number=1, globals=globals())))"
   ]
  },
  {
   "cell_type": "code",
   "execution_count": 3,
   "id": "75af3ea8",
   "metadata": {
    "colab": {
     "base_uri": "https://localhost:8080/"
    },
    "id": "75af3ea8",
    "outputId": "166cb918-cda9-41a1-af93-186babf2cffb"
   },
   "outputs": [
    {
     "name": "stdout",
     "output_type": "stream",
     "text": [
      "-985 -809 -361 -236 164 568 624 717 804 966 "
     ]
    },
    {
     "name": "stdin",
     "output_type": "stream",
     "text": [
      "\n",
      "Введите элемент, который хотите найти  717\n",
      "Введите элемент, который нужно вставить в массив  57\n",
      "Введите элемент, который необходимо удалить из массива  164\n"
     ]
    },
    {
     "name": "stdout",
     "output_type": "stream",
     "text": [
      "717 is found\n",
      "-985 -809 -361 -236 57 568 624 717 804 966 \n",
      "4.7e-06\n"
     ]
    }
   ],
   "source": [
    "#Бинарное дерево\n",
    "import random\n",
    "import timeit\n",
    "class Node:\n",
    "    def __init__(self, data):\n",
    "        self.left = None\n",
    "        self.right = None\n",
    "        self.data = data\n",
    "\n",
    "    def insert(self, data):\n",
    "        if self.data:\n",
    "            if data < self.data:\n",
    "                if self.left is None:\n",
    "                    self.left = Node(data)\n",
    "                else:\n",
    "                    self.left.insert(data)\n",
    "            elif data > self.data:\n",
    "                if self.right is None:\n",
    "                    self.right = Node(data)\n",
    "                else:\n",
    "                    self.right.insert(data)\n",
    "        else:\n",
    "            self.data = data\n",
    "\n",
    "    def delete(self, value):\n",
    "        if value < self.data:\n",
    "            if self.left is None:\n",
    "                return str(value) + \" Not Found\"\n",
    "            return self.left.delete(value)\n",
    "        elif value > self.data:\n",
    "            if self.right is None:\n",
    "                return str(value) + \" Not Found\"\n",
    "            return self.right.delete(value)\n",
    "        else:\n",
    "            if self.left is None and self.right is None:\n",
    "                self.data = None\n",
    "            elif self.left is None:\n",
    "                self.data = self.right.left_del(value)\n",
    "            else:\n",
    "                self.data = self.left.right_del(value)\n",
    "\n",
    "    def left_del(self, data):\n",
    "        if self.left is None:\n",
    "            k = self.data\n",
    "            self.data = None\n",
    "            return k\n",
    "        else:\n",
    "            return self.left.left_del(data)\n",
    "\n",
    "    def right_del(self, data):\n",
    "        if self.right is None:\n",
    "            k = self.data\n",
    "            self.data = None\n",
    "            return k\n",
    "        else:\n",
    "            return self.right.right_del(data)\n",
    "\n",
    "    def find(self, value):\n",
    "        if value < self.data:\n",
    "            if self.left is None:\n",
    "                return str(value) + \" Not Found\"\n",
    "            return self.left.find(value)\n",
    "        elif value > self.data:\n",
    "            if self.right is None:\n",
    "                return str(value) + \" Not Found\"\n",
    "            return self.right.find(value)\n",
    "        else:\n",
    "            print(str(self.data) + ' is found')\n",
    "\n",
    "    def print_tree(self):\n",
    "        if self.left:\n",
    "            self.left.print_tree()\n",
    "        if self.data is not None:\n",
    "            print(self.data, end=\" \")\n",
    "        if self.right:\n",
    "            self.right.print_tree()\n",
    "\n",
    "\n",
    "array = [random.randint(-1000, 1000) for j in range(10)]\n",
    "root = Node(array[0])\n",
    "for i in range(1, len(array)):\n",
    "    root.insert(array[i])\n",
    "root.print_tree()\n",
    "elem1 = int(input(\"\\nВведите элемент, который хотите найти \"))\n",
    "elem2 = int(input(\"Введите элемент, который нужно вставить в массив \"))\n",
    "elem3 = int(input(\"Введите элемент, который необходимо удалить из массива \"))\n",
    "root.find(elem1)\n",
    "root.insert(elem2)\n",
    "root.delete(elem3)\n",
    "root.print_tree()\n",
    "print(str(\"\\n%.3g\" % timeit.timeit('root.insert(elem2)', number=1, globals=globals())))"
   ]
  },
  {
   "cell_type": "code",
   "execution_count": 4,
   "id": "abe4b0b4",
   "metadata": {
    "colab": {
     "base_uri": "https://localhost:8080/"
    },
    "id": "abe4b0b4",
    "outputId": "719043e5-0d1b-488e-a6a4-4a7eac1b0a22"
   },
   "outputs": [
    {
     "name": "stdout",
     "output_type": "stream",
     "text": [
      "Изначальный массив:  [-950, -438, -383, -222, -177, -132, -102, 192, 599, 893]\n"
     ]
    },
    {
     "name": "stdin",
     "output_type": "stream",
     "text": [
      "Введите элемент, который хотите найти  -177\n"
     ]
    },
    {
     "name": "stdout",
     "output_type": "stream",
     "text": [
      "Индекс, необходимого элемента 4\n"
     ]
    },
    {
     "name": "stdin",
     "output_type": "stream",
     "text": [
      "Введите элемент, который нужно вставить в массив  546\n",
      "Введите элемент, который необходимо удалить из массива  893\n"
     ]
    },
    {
     "name": "stdout",
     "output_type": "stream",
     "text": [
      "Новый массив:  [-950, -438, -383, -222, -177, -132, -102, 192, 546, 599]\n",
      "\n",
      "5.9e-06\n"
     ]
    }
   ],
   "source": [
    "#Метод Фибоначчи\n",
    "import random\n",
    "import timeit\n",
    "def fibonacci(array, value, add: bool = False):\n",
    "    size = len(array)\n",
    "    start = -1\n",
    "    f0 = 0\n",
    "    f1 = 1\n",
    "    f2 = 1\n",
    "    while f2 < size:\n",
    "        f0 = f1\n",
    "        f1 = f2\n",
    "        f2 = f1 + f0\n",
    "    while f2 > 1:\n",
    "        index = min(start + f0, size - 1)\n",
    "        if add:\n",
    "            if index != 0 and array[index] > value >= array[index - 1] or index == 0 and array[0] > value:\n",
    "                return index\n",
    "            if index != len(array) - 1 and array[index] < value <= array[index + 1] or index == len(array) - 1 and array[index] < value:\n",
    "                return index + 1\n",
    "        else:\n",
    "            if array[index] == value:\n",
    "                return index\n",
    "        if array[index] < value:\n",
    "            f2 = f1\n",
    "            f1 = f0\n",
    "            f0 = f2 - f1\n",
    "            start = index\n",
    "        elif array[index] > value:\n",
    "            f2 = f0\n",
    "            f1 -= f0\n",
    "            f0 = f2 - f1\n",
    "    if array[size - 1] == value:\n",
    "        return size - 1\n",
    "    return -1\n",
    "\n",
    "def add(array, elem):\n",
    "    i = fibonacci(array, elem, True)\n",
    "    array.insert(i, elem)\n",
    "\n",
    "\n",
    "def delete(array, elem):\n",
    "    i = fibonacci(array, elem)\n",
    "    if i != -1:\n",
    "        array.pop(i)\n",
    "\n",
    "mas = [random.randint(-1000, 1000) for j in range(10)]\n",
    "mas.sort()\n",
    "print(\"Изначальный массив: \", mas)\n",
    "elem1 = int(input(\"Введите элемент, который хотите найти \"))\n",
    "print(\"Индекс, необходимого элемента\", fibonacci(mas, elem1))\n",
    "elem_add = int(input(\"Введите элемент, который нужно вставить в массив \"))\n",
    "elem_del = int(input(\"Введите элемент, который необходимо удалить из массива \"))\n",
    "add(mas, elem_add)\n",
    "delete(mas, elem_del)\n",
    "print(\"Новый массив: \", mas)\n",
    "print(str(\"\\n%.3g\" % timeit.timeit('fibonacci(mas, elem1)', number=1, globals=globals())))"
   ]
  },
  {
   "cell_type": "code",
   "execution_count": 5,
   "id": "34ec2894",
   "metadata": {
    "colab": {
     "base_uri": "https://localhost:8080/"
    },
    "id": "34ec2894",
    "outputId": "d7e7c52e-9e46-459f-b133-d79cf6bcc02f"
   },
   "outputs": [
    {
     "name": "stdout",
     "output_type": "stream",
     "text": [
      "Изначальный массив:  [112, 121, 292, 439, 566, 583, 600, 784, 952, 989]\n"
     ]
    },
    {
     "name": "stdin",
     "output_type": "stream",
     "text": [
      "Введите элемент, который хотите найти  121\n"
     ]
    },
    {
     "name": "stdout",
     "output_type": "stream",
     "text": [
      "Индекс, необходимого элемента 1\n"
     ]
    },
    {
     "name": "stdin",
     "output_type": "stream",
     "text": [
      "Введите элемент, который нужно вставить в массив  76\n",
      "Введите элемент, который необходимо удалить из массива  112\n"
     ]
    },
    {
     "name": "stdout",
     "output_type": "stream",
     "text": [
      "Новый массив:  [76, 121, 292, 439, 566, 583, 600, 784, 952, 989]\n",
      "\n",
      "6.6e-06\n"
     ]
    }
   ],
   "source": [
    "#Интерполяционный\n",
    "import random\n",
    "import timeit\n",
    "def intpolsearch(values, x, add: bool = False):\n",
    "    idx0 = 0\n",
    "    idxn = len(values) - 1\n",
    "    while (add or values[idx0] <= x <= values[idxn]) and idx0 <= idxn:\n",
    "        mid = idx0 + int((float(idxn - idx0) / (values[idxn] - values[idx0])) * (x - values[idx0]))\n",
    "        if add:\n",
    "            if x > values[idxn]:\n",
    "                return len(values)\n",
    "            if x < values[idx0]:\n",
    "                return 0 \n",
    "            if mid != 0 and values[mid] > x >= values[mid - 1]:\n",
    "                return mid\n",
    "            if mid != len(values) - 1 and values[mid] <= x <= values[mid + 1]:\n",
    "                return mid + 1\n",
    "        else:\n",
    "            if values[mid] == x:\n",
    "                return mid\n",
    "        if values[mid] < x:\n",
    "            idx0 = mid + 1\n",
    "        else:\n",
    "            idxn = mid - 1\n",
    "    return -1\n",
    "\n",
    "\n",
    "def add(array, elem):\n",
    "    i = intpolsearch(array, elem, True)\n",
    "    array.insert(i, elem)\n",
    "\n",
    "\n",
    "def delete(array, elem):\n",
    "    i = intpolsearch(array, elem)\n",
    "    if i != -1:\n",
    "        array.pop(i)\n",
    "\n",
    "\n",
    "mas = [random.randint(0, 1000) for j in range(10)]\n",
    "mas.sort()\n",
    "print(\"Изначальный массив: \", mas)\n",
    "elem1 = int(input(\"Введите элемент, который хотите найти \"))\n",
    "print(\"Индекс, необходимого элемента\", intpolsearch(mas, elem1))\n",
    "elem_add = int(input(\"Введите элемент, который нужно вставить в массив \"))\n",
    "elem_del = int(input(\"Введите элемент, который необходимо удалить из массива \"))\n",
    "add(mas, elem_add)\n",
    "delete(mas, elem_del)\n",
    "print(\"Новый массив: \", mas)\n",
    "print(str(\"\\n%.3g\" % timeit.timeit('intpolsearch(mas, elem1)', number=1, globals=globals())))"
   ]
  },
  {
   "cell_type": "markdown",
   "id": "q2ROyaFwjsnC",
   "metadata": {
    "id": "q2ROyaFwjsnC"
   },
   "source": [
    "Входные данные для измерения времени работы каждого поиска:\n",
    "> Массив размером 1000000 элементов\n",
    "> Значения элементов в диапозоне от -100 000 000 до 100 000 000\n",
    "Время (в секундах) работы поисков:\n",
    "> 3.75e-05 - бинарный поиск\n",
    "> 3.92e-05 - поиск с помощью бинарного дерева\n",
    "> 2.66e-05 - поиск методом Фибоначчи\n",
    "> 1.43e-05 - интерполяционный поиск\n",
    "> 0.0766 - время работы встроенной функции поиска\n",
    "\n",
    "\n",
    "\n",
    "\n",
    "\n",
    "\n",
    "\n",
    "\n",
    "\n",
    "\n",
    "  \n",
    "  \n",
    "  \n",
    "\n",
    "  "
   ]
  },
  {
   "cell_type": "markdown",
   "id": "maritime-conversation",
   "metadata": {
    "id": "maritime-conversation"
   },
   "source": [
    "### Задание №2\n",
    "Написать соответствующие решения для заданных методов."
   ]
  },
  {
   "cell_type": "code",
   "execution_count": 6,
   "id": "97f9de37",
   "metadata": {
    "colab": {
     "base_uri": "https://localhost:8080/"
    },
    "id": "97f9de37",
    "outputId": "81292149-621b-4016-c1f6-b57a51ce25ed"
   },
   "outputs": [
    {
     "name": "stdout",
     "output_type": "stream",
     "text": [
      "[59, 26, 67, 81, 93, 12, 76, 97, 28, 69]\n",
      "Вставка\n"
     ]
    },
    {
     "name": "stdin",
     "output_type": "stream",
     "text": [
      "Введите n  3\n",
      " 67\n"
     ]
    },
    {
     "name": "stdout",
     "output_type": "stream",
     "text": [
      "[None, 81, None, None, None, None, 26, 67, 28, 69, None, None, 12, 93, None, None, 76, 97, None, 59]\n"
     ]
    },
    {
     "name": "stdin",
     "output_type": "stream",
     "text": [
      " 97\n"
     ]
    },
    {
     "name": "stdout",
     "output_type": "stream",
     "text": [
      "[None, 81, None, None, None, None, 26, 67, 28, 69, None, None, 12, 93, None, None, 76, 97, None, 59]\n"
     ]
    },
    {
     "name": "stdin",
     "output_type": "stream",
     "text": [
      " 23\n"
     ]
    },
    {
     "name": "stdout",
     "output_type": "stream",
     "text": [
      "[None, 81, None, 23, None, None, 26, 67, 28, 69, None, None, 12, 93, None, None, 76, 97, None, 59]\n",
      "Удаление\n"
     ]
    },
    {
     "name": "stdin",
     "output_type": "stream",
     "text": [
      "Введите n  2\n",
      " 67\n"
     ]
    },
    {
     "name": "stdout",
     "output_type": "stream",
     "text": [
      "[None, 81, None, 23, None, None, 26, None, 28, 69, None, None, 12, 93, None, None, 76, 97, None, 59]\n"
     ]
    },
    {
     "name": "stdin",
     "output_type": "stream",
     "text": [
      " 97\n"
     ]
    },
    {
     "name": "stdout",
     "output_type": "stream",
     "text": [
      "[None, 81, None, 23, None, None, 26, None, 28, 69, None, None, 12, 93, None, None, 76, None, None, 59]\n",
      "Поиск\n"
     ]
    },
    {
     "name": "stdin",
     "output_type": "stream",
     "text": [
      "Введите n  3\n",
      " 78\n"
     ]
    },
    {
     "name": "stdout",
     "output_type": "stream",
     "text": [
      "False\n"
     ]
    },
    {
     "name": "stdin",
     "output_type": "stream",
     "text": [
      " 81\n"
     ]
    },
    {
     "name": "stdout",
     "output_type": "stream",
     "text": [
      "True\n"
     ]
    },
    {
     "name": "stdin",
     "output_type": "stream",
     "text": [
      " 12\n"
     ]
    },
    {
     "name": "stdout",
     "output_type": "stream",
     "text": [
      "True\n"
     ]
    }
   ],
   "source": [
    "#Простое рехэширование\n",
    "import copy\n",
    "import random\n",
    "class Hashtable:\n",
    "    def __init__(self, size):\n",
    "        self.data = [None] * size\n",
    "        self.size = size\n",
    "        self.count_None = size\n",
    "\n",
    "    def hash_function(self, value):\n",
    "        return value % self.size\n",
    "\n",
    "    def new_size(self):\n",
    "        a = copy.copy(self.data)\n",
    "        self.size *= 2\n",
    "        self.data = [None] * self.size\n",
    "        self.count_None = self.size\n",
    "        for i in a:\n",
    "            self.put(i)\n",
    "\n",
    "    def put(self, value):\n",
    "        hash_value = self.hash_function(value)\n",
    "        if self.data[hash_value] == value:\n",
    "            return\n",
    "        if self.data[hash_value] is None:\n",
    "            self.data[hash_value] = value\n",
    "            self.count_None -= 1\n",
    "        else:\n",
    "            if self.count_None == 0:\n",
    "                self.new_size()\n",
    "                self.put(value)\n",
    "                return\n",
    "            for i in range(self.size):\n",
    "                hash_value = self.hash_function(hash_value + 1)\n",
    "                if self.data[hash_value] == value:\n",
    "                    return\n",
    "                if self.data[hash_value] is None:\n",
    "                    self.data[hash_value] = value\n",
    "                    self.count_None -= 1\n",
    "                    break\n",
    "\n",
    "    def get(self, value):\n",
    "        hash_value = self.hash_function(value)\n",
    "        if self.data[hash_value] == value:\n",
    "            return True\n",
    "        else:\n",
    "            for i in range(self.size):\n",
    "                hash_value = self.hash_function(hash_value + 1)\n",
    "                if self.data[hash_value] == value:\n",
    "                    return True\n",
    "        return False\n",
    "\n",
    "    def delete(self, value):\n",
    "        if not self.get(value):\n",
    "            return -1\n",
    "        hash_value = self.hash_function(value)\n",
    "        if self.data[hash_value] == value:\n",
    "            self.data[hash_value] = None\n",
    "        else:\n",
    "            for i in range(self.size):\n",
    "                hash_value = self.hash_function(hash_value + 1)\n",
    "                if self.data[hash_value] == value:\n",
    "                    self.data[hash_value] = None\n",
    "\n",
    "n = 10\n",
    "h = Hashtable(n)\n",
    "array = [random.randint(0, 100) for j in range(n)]\n",
    "for i in array:\n",
    "    h.put(i)\n",
    "print(h.data)\n",
    "# Вставка\n",
    "print(\"Вставка\")\n",
    "for i in range(int(input(\"Введите n \"))):\n",
    "    h.put(int(input()))\n",
    "    print(h.data)\n",
    "# Удаление\n",
    "print(\"Удаление\")\n",
    "for i in range(int(input(\"Введите n \"))):\n",
    "    if h.delete(int(input())) == -1:\n",
    "        print('Delete Error')\n",
    "    else:\n",
    "        print(h.data)\n",
    "# Поиск\n",
    "print(\"Поиск\")\n",
    "for i in range(int(input(\"Введите n \"))):\n",
    "    print(h.get(int(input())))"
   ]
  },
  {
   "cell_type": "code",
   "execution_count": null,
   "id": "b4b80e3a",
   "metadata": {
    "colab": {
     "base_uri": "https://localhost:8080/"
    },
    "id": "b4b80e3a",
    "outputId": "79c660e2-e18b-4a33-ee48-910d40b63df8"
   },
   "outputs": [
    {
     "name": "stdout",
     "output_type": "stream",
     "text": [
      "[97, 1, 22, 63, 24, 15, 83, 31, 48, None]\n",
      "Вставка\n"
     ]
    },
    {
     "name": "stdin",
     "output_type": "stream",
     "text": [
      "Введите n  3\n",
      " 89\n"
     ]
    },
    {
     "name": "stdout",
     "output_type": "stream",
     "text": [
      "[97, 1, 22, 63, 24, 15, 83, 31, 48, 89]\n"
     ]
    },
    {
     "name": "stdin",
     "output_type": "stream",
     "text": [
      " 34\n"
     ]
    },
    {
     "name": "stdout",
     "output_type": "stream",
     "text": [
      "[None, 1, 22, 63, 24, None, None, None, 48, 89, 83, 31, None, None, 34, 15, None, 97, None, None]\n"
     ]
    },
    {
     "name": "stdin",
     "output_type": "stream",
     "text": [
      " 78\n"
     ]
    },
    {
     "name": "stdout",
     "output_type": "stream",
     "text": [
      "[None, 1, 22, 63, 24, None, None, None, 48, 89, 83, 31, None, None, 34, 15, None, 97, 78, None]\n",
      "Удаление\n"
     ]
    },
    {
     "name": "stdin",
     "output_type": "stream",
     "text": [
      "Введите n  2\n",
      " 89\n"
     ]
    },
    {
     "name": "stdout",
     "output_type": "stream",
     "text": [
      "[None, 1, 22, 63, 24, None, None, None, 48, None, 83, 31, None, None, 34, 15, None, 97, 78, None]\n"
     ]
    },
    {
     "name": "stdin",
     "output_type": "stream",
     "text": [
      " 1\n"
     ]
    },
    {
     "name": "stdout",
     "output_type": "stream",
     "text": [
      "[None, None, 22, 63, 24, None, None, None, 48, None, 83, 31, None, None, 34, 15, None, 97, 78, None]\n",
      "Поиск\n"
     ]
    },
    {
     "name": "stdin",
     "output_type": "stream",
     "text": [
      "Введите n  3\n"
     ]
    }
   ],
   "source": [
    "#Рехэширование с помощью псевдослучайных чисел\n",
    "import copy\n",
    "import random\n",
    "class Hashtable:\n",
    "    def __init__(self, size):\n",
    "        self.data = [None] * size\n",
    "        self.size = size\n",
    "        self.count_None = size\n",
    "\n",
    "    def hash_function(self, value):\n",
    "        return value % self.size\n",
    "\n",
    "    def new_size(self):\n",
    "        a = copy.copy(self.data)\n",
    "        self.size *= 2\n",
    "        self.data = [None] * self.size\n",
    "        self.count_None = self.size\n",
    "        for i in a:\n",
    "            self.put(i)\n",
    "\n",
    "    def put(self, value):\n",
    "        hash_value = self.hash_function(value)\n",
    "        if self.data[hash_value] == value:\n",
    "            return\n",
    "        if self.data[hash_value] is None:\n",
    "            self.data[hash_value] = value\n",
    "            self.count_None -= 1\n",
    "        else:\n",
    "            random.seed(hash_value)\n",
    "            if self.count_None == 0:\n",
    "                self.new_size()\n",
    "                self.put(value)\n",
    "                return\n",
    "            while True:\n",
    "                hash_value = self.hash_function(hash_value + random.randint(0, self.size))\n",
    "                if self.data[hash_value] == value:\n",
    "                    return\n",
    "                if self.data[hash_value] is None:\n",
    "                    self.data[hash_value] = value\n",
    "                    self.count_None -= 1\n",
    "                    break\n",
    "\n",
    "    def get(self, value):\n",
    "        hash_value = self.hash_function(value)\n",
    "        if self.data[hash_value] == value:\n",
    "            return True\n",
    "        else:\n",
    "            random.seed(hash_value)\n",
    "            for i in range(self.size):\n",
    "                hash_value = self.hash_function(hash_value + random.randint(0, self.size))\n",
    "                if self.data[hash_value] == value:\n",
    "                    return True\n",
    "        return False\n",
    "\n",
    "    def delete(self, value):\n",
    "        if not self.get(value):\n",
    "            return -1\n",
    "        hash_value = self.hash_function(value)\n",
    "        if self.data[hash_value] == value:\n",
    "            self.data[hash_value] = None\n",
    "        else:\n",
    "            random.seed(hash_value)\n",
    "            for i in range(self.size):\n",
    "                hash_value = self.hash_function(hash_value + random.randint(0, self.size))\n",
    "                if self.data[hash_value] == value:\n",
    "                    self.data[hash_value] = None\n",
    "\n",
    "n = 10\n",
    "h = Hashtable(n)\n",
    "for i in range(n):\n",
    "    h.put(random.randint(0, 100))\n",
    "print(h.data)\n",
    "# Вставка\n",
    "print(\"Вставка\")\n",
    "for i in range(int(input(\"Введите n \"))):\n",
    "    h.put(int(input()))\n",
    "    print(h.data)\n",
    "# Удаление\n",
    "print(\"Удаление\")\n",
    "for i in range(int(input(\"Введите n \"))):\n",
    "    if h.delete(int(input())) == -1:\n",
    "        print('Delete Error')\n",
    "    else:\n",
    "        print(h.data)\n",
    "# Поиск\n",
    "print(\"Поиск\")\n",
    "for i in range(int(input(\"Введите n \"))):\n",
    "    print(h.get(int(input())))"
   ]
  },
  {
   "cell_type": "code",
   "execution_count": null,
   "id": "1addc092",
   "metadata": {
    "colab": {
     "base_uri": "https://localhost:8080/"
    },
    "id": "1addc092",
    "outputId": "f9574e3b-c6f6-4a6c-cad8-df8856d9f986"
   },
   "outputs": [],
   "source": [
    "#Метод цепочек\n",
    "import random\n",
    "class Node:\n",
    "    def __init__(self, data=None):\n",
    "        self.data = data\n",
    "        self.next = None\n",
    "\n",
    "class Hashtable:\n",
    "    def __init__(self, size):\n",
    "        self.data = [Node()] * size\n",
    "        self.size = size\n",
    "\n",
    "    def hash_function(self, value, size):\n",
    "        return value % size\n",
    "\n",
    "    def put(self, value):\n",
    "        hash_value = self.hash_function(value, self.size)\n",
    "        if self.data[hash_value].data is None:\n",
    "            self.data[hash_value].data = value\n",
    "        else:\n",
    "            p = self.data[hash_value]\n",
    "            while p.next is not None:\n",
    "                p = p.next\n",
    "            p.next = Node(value)\n",
    "\n",
    "    def get(self, value):\n",
    "        hash_value = self.hash_function(value, self.size)\n",
    "        if self.data[hash_value].data == value:\n",
    "            return True\n",
    "        else:\n",
    "            p = self.data[hash_value]\n",
    "            while p is not None and p.data != value:\n",
    "                p = p.next\n",
    "            if p is not None and p.data == value:\n",
    "                return True\n",
    "        return False\n",
    "\n",
    "    def delete(self, value):\n",
    "        if not self.get(value):\n",
    "            return -1\n",
    "        hash_value = self.hash_function(value, self.size)\n",
    "        if self.data[hash_value].data == value:\n",
    "            self.data[hash_value].data = None\n",
    "        else:\n",
    "            p = self.data[hash_value]\n",
    "            pre = None\n",
    "            while p is not None and p.data != value:\n",
    "                pre = p\n",
    "                p = p.next\n",
    "            if p is None:\n",
    "                return -1\n",
    "            else:\n",
    "                pre.next = p.next\n",
    "\n",
    "n = 10\n",
    "h = Hashtable(n)\n",
    "array = set([random.randint(0, 100) for j in range(n)])\n",
    "for i in array:\n",
    "    h.put(i)\n",
    "print(array)\n",
    "# Вставка\n",
    "print(\"Вставка\")\n",
    "for i in range(int(input(\"Введите n \"))):\n",
    "    h.put(int(input()))\n",
    "# Удаление\n",
    "print(\"Удаление\")\n",
    "for i in range(int(input(\"Введите n \"))):\n",
    "    if h.delete(int(input())) == -1:\n",
    "        print('Delete Error')\n",
    "# Поиск\n",
    "print(\"Поиск\")\n",
    "for i in range(int(input(\"Введите n \"))):\n",
    "    print(h.get(int(input())))"
   ]
  },
  {
   "cell_type": "markdown",
   "id": "catholic-roots",
   "metadata": {
    "id": "catholic-roots"
   },
   "source": [
    "### Задание №3\n",
    "Расставить на стандартной 64-клеточной шахматной доске 8 ферзей так, чтобы ни один из них не находился под боем другого». Подразумевается, что ферзь бьёт все клетки, расположенные по вертикалям, горизонталям и обеим диагоналям\n",
    "Написать программу,  которая находит хотя бы один способ решения задач.\n"
   ]
  },
  {
   "cell_type": "code",
   "execution_count": null,
   "id": "09de30c9",
   "metadata": {
    "id": "09de30c9",
    "outputId": "cd588fd6-c959-4103-ca0e-d5846ea99c2e"
   },
   "outputs": [],
   "source": [
    "global queen\n",
    "global number\n",
    "queen = [None] * 8\n",
    "number = 0\n",
    "\n",
    "\n",
    "def print_table():\n",
    "    global number\n",
    "    number += 1\n",
    "    print('\\n%d решение проблемы восьми ферзей \\t' % number)\n",
    "    for x in range(8):\n",
    "        for y in range(8):\n",
    "            if x == queen[y]:\n",
    "                print('<q>', end=' ')\n",
    "            else:\n",
    "                print('<->', end=' ')\n",
    "        print('\\t')\n",
    "\n",
    "\n",
    "def attack(row, col):\n",
    "    global queen\n",
    "    for i in range(col):\n",
    "        offset_col = abs(i - col)\n",
    "        offset_row = abs(queen[i] - row)\n",
    "        if queen[i] == row or offset_row == offset_col:\n",
    "            return True\n",
    "    return False\n",
    "\n",
    "\n",
    "def decide_position(value):\n",
    "    global queen\n",
    "    for i in range(8):\n",
    "        if not attack(i, value):\n",
    "            queen[value] = i\n",
    "            if value == 7:\n",
    "                print_table()\n",
    "            else:\n",
    "                decide_position(value + 1)\n",
    "\n",
    "\n",
    "decide_position(0)"
   ]
  }
 ],
 "metadata": {
  "colab": {
   "collapsed_sections": [],
   "name": "Lab2.ipynb",
   "provenance": []
  },
  "kernelspec": {
   "display_name": "Python 3 (ipykernel)",
   "language": "python",
   "name": "python3"
  },
  "language_info": {
   "codemirror_mode": {
    "name": "ipython",
    "version": 3
   },
   "file_extension": ".py",
   "mimetype": "text/x-python",
   "name": "python",
   "nbconvert_exporter": "python",
   "pygments_lexer": "ipython3",
   "version": "3.10.2"
  }
 },
 "nbformat": 4,
 "nbformat_minor": 5
}
